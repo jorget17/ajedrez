{
 "cells": [
  {
   "cell_type": "code",
   "execution_count": 1,
   "metadata": {
    "executionInfo": {
     "elapsed": 520,
     "status": "ok",
     "timestamp": 1613925443323,
     "user": {
      "displayName": "Errotaria",
      "photoUrl": "https://lh3.googleusercontent.com/a-/AOh14GhkC7sZV1xbKhr8OwKimhmhMRjM8qe5zkjrn7AB=s64",
      "userId": "05572206676135997816"
     },
     "user_tz": -60
    },
    "id": "4XD0VJBzc2_n"
   },
   "outputs": [],
   "source": [
    "import pandas as pd\n",
    "import numpy as np\n",
    "import time\n",
    "import chess\n",
    "from datetime import datetime\n",
    "pd.options.mode.chained_assignment = None  # default='warn'"
   ]
  },
  {
   "cell_type": "code",
   "execution_count": 2,
   "metadata": {
    "executionInfo": {
     "elapsed": 506,
     "status": "ok",
     "timestamp": 1613925449568,
     "user": {
      "displayName": "Errotaria",
      "photoUrl": "https://lh3.googleusercontent.com/a-/AOh14GhkC7sZV1xbKhr8OwKimhmhMRjM8qe5zkjrn7AB=s64",
      "userId": "05572206676135997816"
     },
     "user_tz": -60
    },
    "id": "CNYhkLCAc-TY"
   },
   "outputs": [],
   "source": [
    "def genera_posicion_problema(inicial, moves):\n",
    "  tablero = chess.Board(inicial)\n",
    "  movimiento = chess.Move.from_uci(moves.split()[0])\n",
    "  tablero.push(movimiento)\n",
    "  problema = tablero.fen()\n",
    "  return problema"
   ]
  },
  {
   "cell_type": "code",
   "execution_count": 3,
   "metadata": {
    "colab": {
     "base_uri": "https://localhost:8080/"
    },
    "executionInfo": {
     "elapsed": 25989,
     "status": "ok",
     "timestamp": 1613925484011,
     "user": {
      "displayName": "Errotaria",
      "photoUrl": "https://lh3.googleusercontent.com/a-/AOh14GhkC7sZV1xbKhr8OwKimhmhMRjM8qe5zkjrn7AB=s64",
      "userId": "05572206676135997816"
     },
     "user_tz": -60
    },
    "id": "H7zr6xIFc_1P",
    "outputId": "77f99dd6-da42-44e2-8f1d-fad268fdf10e"
   },
   "outputs": [
    {
     "name": "stdout",
     "output_type": "stream",
     "text": [
      "Descargo el fichero? (Pulsa s para descargarlo): n\n"
     ]
    }
   ],
   "source": [
    "pregunta = input('Descargo el fichero? (Pulsa s para descargarlo): ')\n",
    "\n",
    "if pregunta.lower() == \"s\":\n",
    "  !wget https://database.lichess.org/lichess_db_puzzle.csv.bz2\n",
    "  !bzip2 -d lichess_db_puzzle.csv.bz2\n",
    "else:\n",
    "  pass"
   ]
  },
  {
   "cell_type": "code",
   "execution_count": 4,
   "metadata": {
    "executionInfo": {
     "elapsed": 6472,
     "status": "ok",
     "timestamp": 1613925504768,
     "user": {
      "displayName": "Errotaria",
      "photoUrl": "https://lh3.googleusercontent.com/a-/AOh14GhkC7sZV1xbKhr8OwKimhmhMRjM8qe5zkjrn7AB=s64",
      "userId": "05572206676135997816"
     },
     "user_tz": -60
    },
    "id": "1YjlgI0NdCBH"
   },
   "outputs": [],
   "source": [
    "l = pd.read_csv('lichess_db_puzzle.csv', names=['puzzle_id', 'fen', 'moves', 'rating', 'deviation', 'popularity', 'played', 'themes', 'game', 'opening', 'variant'])"
   ]
  },
  {
   "cell_type": "code",
   "execution_count": 5,
   "metadata": {},
   "outputs": [],
   "source": [
    "l.themes = l.themes.fillna('noTheme')"
   ]
  },
  {
   "cell_type": "code",
   "execution_count": 6,
   "metadata": {},
   "outputs": [],
   "source": [
    "l.opening = l.opening.fillna('noOpening')"
   ]
  },
  {
   "cell_type": "code",
   "execution_count": 7,
   "metadata": {},
   "outputs": [],
   "source": [
    "l.variant = l.variant.fillna('noVariant')"
   ]
  },
  {
   "cell_type": "code",
   "execution_count": 8,
   "metadata": {
    "colab": {
     "base_uri": "https://localhost:8080/"
    },
    "executionInfo": {
     "elapsed": 817975,
     "status": "ok",
     "timestamp": 1613926329845,
     "user": {
      "displayName": "Errotaria",
      "photoUrl": "https://lh3.googleusercontent.com/a-/AOh14GhkC7sZV1xbKhr8OwKimhmhMRjM8qe5zkjrn7AB=s64",
      "userId": "05572206676135997816"
     },
     "user_tz": -60
    },
    "id": "YFzt-c17dL2f",
    "outputId": "b8cc22c8-4375-43de-dc2d-942b7ac05d27"
   },
   "outputs": [
    {
     "name": "stdout",
     "output_type": "stream",
     "text": [
      "Proceso terminado en 666.5165849 segundos.\n"
     ]
    }
   ],
   "source": [
    "inicio = time.perf_counter()\n",
    "\n",
    "l['problema'] = l.apply(lambda x: genera_posicion_problema(x['fen'], x['moves']), axis=1)\n",
    "l['sp_san'] = l.apply(lambda x: chess.Board(x['problema']).variation_san([chess.Move.from_uci(m) for m in x['moves'].split()[1:]]), axis=1)\n",
    "\n",
    "final = time.perf_counter()\n",
    "\n",
    "duracion = final -inicio\n",
    "\n",
    "print(f'Proceso terminado en {duracion} segundos.')"
   ]
  },
  {
   "cell_type": "code",
   "execution_count": 10,
   "metadata": {
    "executionInfo": {
     "elapsed": 150158,
     "status": "ok",
     "timestamp": 1613926545746,
     "user": {
      "displayName": "Errotaria",
      "photoUrl": "https://lh3.googleusercontent.com/a-/AOh14GhkC7sZV1xbKhr8OwKimhmhMRjM8qe5zkjrn7AB=s64",
      "userId": "05572206676135997816"
     },
     "user_tz": -60
    },
    "id": "d_gkhI7PdPKn"
   },
   "outputs": [],
   "source": [
    "with open('lichess_puzzles.csv', 'w', encoding=\"utf-8\") as output_csv:\n",
    "    for index, row in l.iterrows():\n",
    "        output_csv.write(f\"{row['problema']}|{row['opening']}|{row['variant']}|{row['themes']}|{row['puzzle_id']}|{row['game']}|{row['rating']}|´{row['played']}|{row['sp_san']}\\n\")"
   ]
  },
  {
   "cell_type": "code",
   "execution_count": null,
   "metadata": {},
   "outputs": [],
   "source": []
  }
 ],
 "metadata": {
  "colab": {
   "authorship_tag": "ABX9TyOvjxM8i35tV/xC+G9CMf5s",
   "mount_file_id": "1PnKejBwkOHkJj7yirjIdbMVtrfgsMkwO",
   "name": "obtener_puzzles.ipynb",
   "provenance": []
  },
  "kernelspec": {
   "display_name": "Python 3 (ipykernel)",
   "language": "python",
   "name": "python3"
  },
  "language_info": {
   "codemirror_mode": {
    "name": "ipython",
    "version": 3
   },
   "file_extension": ".py",
   "mimetype": "text/x-python",
   "name": "python",
   "nbconvert_exporter": "python",
   "pygments_lexer": "ipython3",
   "version": "3.9.12"
  }
 },
 "nbformat": 4,
 "nbformat_minor": 1
}
