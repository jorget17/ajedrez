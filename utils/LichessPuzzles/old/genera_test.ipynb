{
 "cells": [
  {
   "cell_type": "code",
   "execution_count": null,
   "metadata": {
    "id": "kvLYKXJ3dwgY"
   },
   "outputs": [],
   "source": [
    "import pandas as pd\n",
    "import numpy as np\n",
    "import time\n",
    "import chess\n",
    "from datetime import datetime\n",
    "pd.options.mode.chained_assignment = None  # default='warn'\n",
    "import random"
   ]
  },
  {
   "cell_type": "code",
   "execution_count": null,
   "metadata": {
    "id": "SN_zAm6sd6jL"
   },
   "outputs": [],
   "source": [
    "def genera_test(numero_posiciones):\n",
    "    fecha = datetime.today().strftime('%Y%m%d')\n",
    "    hora = datetime.now().strftime('%H%M%S')\n",
    "    data = pd.read_csv('/content/drive/MyDrive/errotake/Ajedrez/LichessPuzzles/lichess_puzzles.csv', sep='|', names=['fen', 'puzzle_id', 'game', 'rating', 'sp_san'])\n",
    "    extraidos = []\n",
    "    with open(f'{fecha}_{hora}.pgn', 'w') as output_pgn:\n",
    "        posiciones_generadas = 1\n",
    "        while posiciones_generadas <= numero_posiciones:\n",
    "            indice = random.randint(0, len(data))\n",
    "            if indice in extraidos:\n",
    "                continue\n",
    "            else:\n",
    "                extraidos.append(indice)\n",
    "                problema = data.iloc[indice]\n",
    "                puzzle_id = problema['puzzle_id']\n",
    "                rating = problema['rating']\n",
    "                game = problema['game']\n",
    "                fen = problema['fen']\n",
    "                solucion = problema['sp_san']\n",
    "                output_pgn.write(f'''[White \"Lichess problem {puzzle_id}\"]\n",
    "[Black \"{rating}\"]\n",
    "[Event \"{posiciones_generadas}\"]\n",
    "[Site \"{game}\"]\n",
    "[FEN \"{fen}\"]\n",
    "\n",
    "{solucion} *\n",
    "\\n''')\n",
    "                posiciones_generadas += 1"
   ]
  },
  {
   "cell_type": "code",
   "execution_count": null,
   "metadata": {
    "id": "GZYgt6hSd97R"
   },
   "outputs": [],
   "source": [
    "genera_test(24)"
   ]
  }
 ],
 "metadata": {
  "colab": {
   "authorship_tag": "ABX9TyOO6VCaBhloUV+LVi9LfF5O",
   "mount_file_id": "1HVBGSdLOZDcm35sOUEqj2-0y5worg5s6",
   "name": "genera_test.ipynb",
   "provenance": []
  },
  "kernelspec": {
   "display_name": "Python 3",
   "language": "python",
   "name": "python3"
  },
  "language_info": {
   "codemirror_mode": {
    "name": "ipython",
    "version": 3
   },
   "file_extension": ".py",
   "mimetype": "text/x-python",
   "name": "python",
   "nbconvert_exporter": "python",
   "pygments_lexer": "ipython3",
   "version": "3.8.10"
  }
 },
 "nbformat": 4,
 "nbformat_minor": 1
}
