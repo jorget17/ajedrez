{
 "cells": [
  {
   "cell_type": "code",
   "execution_count": 1,
   "metadata": {
    "executionInfo": {
     "elapsed": 520,
     "status": "ok",
     "timestamp": 1613925443323,
     "user": {
      "displayName": "Errotaria",
      "photoUrl": "https://lh3.googleusercontent.com/a-/AOh14GhkC7sZV1xbKhr8OwKimhmhMRjM8qe5zkjrn7AB=s64",
      "userId": "05572206676135997816"
     },
     "user_tz": -60
    },
    "id": "4XD0VJBzc2_n"
   },
   "outputs": [],
   "source": [
    "import pandas as pd\n",
    "import numpy as np\n",
    "import time\n",
    "import chess\n",
    "from datetime import datetime\n",
    "pd.options.mode.chained_assignment = None  # default='warn'"
   ]
  },
  {
   "cell_type": "code",
   "execution_count": 2,
   "metadata": {},
   "outputs": [],
   "source": [
    "def genera_pgn(tema):\n",
    "    with open(f'{tema}.pgn', 'w') as output_pgn:\n",
    "        df = pd.read_csv('lichess_puzzles.csv', sep='|', names=['fen', 'themes', 'puzzle_id', 'game', 'rating', 'moves'])\n",
    "        df_tema = df[df['themes'].str.contains(f'{tema}')]\n",
    "        for index, row in df_tema.iterrows():\n",
    "            puzzle_id = row['puzzle_id']\n",
    "            rating = row['rating']\n",
    "            game = row['game']\n",
    "            fen = row['fen']\n",
    "            solucion = row['moves']\n",
    "            themes = row['themes']\n",
    "            output_pgn.write(f'''[White \"Lichess problem {puzzle_id}\"]\n",
    "[Black \"{rating}\"]\n",
    "[Event \"{themes}\"]\n",
    "[Site \"{game}\"]\n",
    "[FEN \"{fen}\"]\n",
    "\n",
    "{solucion} *\n",
    "\n",
    "\\n''')"
   ]
  },
  {
   "cell_type": "code",
   "execution_count": 3,
   "metadata": {},
   "outputs": [],
   "source": [
    "l = pd.read_csv('lichess_puzzles.csv', sep='|', names=['fen', 'themes', 'puzzle_id', 'game', 'rating', 'moves'])"
   ]
  },
  {
   "cell_type": "code",
   "execution_count": 4,
   "metadata": {},
   "outputs": [],
   "source": [
    "temas = l.themes.unique()"
   ]
  },
  {
   "cell_type": "code",
   "execution_count": 5,
   "metadata": {},
   "outputs": [],
   "source": [
    "temas = [t.split() for t in temas]"
   ]
  },
  {
   "cell_type": "code",
   "execution_count": 6,
   "metadata": {},
   "outputs": [],
   "source": [
    "listado_temas = list({t for t2 in temas for t in t2})"
   ]
  },
  {
   "cell_type": "code",
   "execution_count": null,
   "metadata": {
    "executionInfo": {
     "elapsed": 156915,
     "status": "ok",
     "timestamp": 1613926706125,
     "user": {
      "displayName": "Errotaria",
      "photoUrl": "https://lh3.googleusercontent.com/a-/AOh14GhkC7sZV1xbKhr8OwKimhmhMRjM8qe5zkjrn7AB=s64",
      "userId": "05572206676135997816"
     },
     "user_tz": -60
    },
    "id": "Q3mjpdfqds0a"
   },
   "outputs": [],
   "source": [
    "with open('lichess_puzzles.pgn', 'w') as output_pgn:\n",
    "  for index, row in l.iterrows():\n",
    "    puzzle_id = row['puzzle_id']\n",
    "    rating = row['rating']\n",
    "    game = row['game']\n",
    "    fen = row['problema']\n",
    "    solucion = row['sp_san']\n",
    "    played = row['played']\n",
    "    output_pgn.write(f'''[White \"Lichess problem {puzzle_id}\"]\n",
    "[Black \"{rating}\"]\n",
    "[Event \"{played}\"]\n",
    "[Site \"{game}\"]\n",
    "[FEN \"{fen}\"]\n",
    "\n",
    "{solucion} *\n",
    "\n",
    "\\n''')"
   ]
  },
  {
   "cell_type": "code",
   "execution_count": 7,
   "metadata": {},
   "outputs": [
    {
     "data": {
      "text/plain": [
       "['crushing',\n",
       " 'queenEndgame',\n",
       " 'mate',\n",
       " 'fork',\n",
       " 'mateIn4',\n",
       " 'attackingF2F7',\n",
       " 'queensideAttack',\n",
       " 'kingsideAttack',\n",
       " 'enPassant',\n",
       " 'short',\n",
       " 'master',\n",
       " 'masterVsMaster',\n",
       " 'quietMove',\n",
       " 'bishopEndgame',\n",
       " 'dovetailMate',\n",
       " 'doubleBishopMate',\n",
       " 'long',\n",
       " 'queenRookEndgame',\n",
       " 'attraction',\n",
       " 'zugzwang',\n",
       " 'xRayAttack',\n",
       " 'endgame',\n",
       " 'mateIn2',\n",
       " 'intermezzo',\n",
       " 'deflection',\n",
       " 'advancedPawn',\n",
       " 'promotion',\n",
       " 'capturingDefender',\n",
       " 'discoveredAttack',\n",
       " 'skewer',\n",
       " 'pin',\n",
       " 'mateIn1',\n",
       " 'defensiveMove',\n",
       " 'arabianMate',\n",
       " 'mateIn3',\n",
       " 'superGM',\n",
       " 'sacrifice',\n",
       " 'hookMate',\n",
       " 'advantage',\n",
       " 'equality',\n",
       " 'underPromotion',\n",
       " 'noTheme',\n",
       " 'anastasiaMate',\n",
       " 'hangingPiece',\n",
       " 'castling',\n",
       " 'opening',\n",
       " 'oneMove',\n",
       " 'doubleCheck',\n",
       " 'knightEndgame',\n",
       " 'pawnEndgame',\n",
       " 'rookEndgame',\n",
       " 'bodenMate',\n",
       " 'veryLong',\n",
       " 'clearance',\n",
       " 'exposedKing',\n",
       " 'smotheredMate',\n",
       " 'backRankMate',\n",
       " 'middlegame',\n",
       " 'trappedPiece',\n",
       " 'interference',\n",
       " 'mateIn5']"
      ]
     },
     "execution_count": 7,
     "metadata": {},
     "output_type": "execute_result"
    }
   ],
   "source": [
    "listado_temas"
   ]
  },
  {
   "cell_type": "code",
   "execution_count": 8,
   "metadata": {},
   "outputs": [],
   "source": [
    "genera_pgn('attraction')"
   ]
  },
  {
   "cell_type": "code",
   "execution_count": null,
   "metadata": {},
   "outputs": [],
   "source": []
  }
 ],
 "metadata": {
  "colab": {
   "authorship_tag": "ABX9TyOvjxM8i35tV/xC+G9CMf5s",
   "mount_file_id": "1PnKejBwkOHkJj7yirjIdbMVtrfgsMkwO",
   "name": "obtener_puzzles.ipynb",
   "provenance": []
  },
  "kernelspec": {
   "display_name": "Python 3 (ipykernel)",
   "language": "python",
   "name": "python3"
  },
  "language_info": {
   "codemirror_mode": {
    "name": "ipython",
    "version": 3
   },
   "file_extension": ".py",
   "mimetype": "text/x-python",
   "name": "python",
   "nbconvert_exporter": "python",
   "pygments_lexer": "ipython3",
   "version": "3.8.10"
  }
 },
 "nbformat": 4,
 "nbformat_minor": 1
}
